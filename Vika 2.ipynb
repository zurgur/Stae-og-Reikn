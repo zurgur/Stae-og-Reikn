{
 "cells": [
  {
   "cell_type": "markdown",
   "metadata": {},
   "source": [
    "# Dæmatími 2\n",
    "\n",
    "## Helstu atriði\n",
    "\n",
    "- Fara yfir dæmi fyrri viku\n",
    "- Fara yfir lausnir á tíma dæmum\n",
    "\n",
    "Hlekkir til að skoða\n",
    "https://docs.python.org/3/"
   ]
  },
  {
   "cell_type": "markdown",
   "metadata": {},
   "source": [
    "1\\.  Lát $a = (1, 2, 3, 4, 6)$ og $b = (6, 7, 8, 9, 10)$. Táknið eftirfarandi aðgerðir með aðgerðum í numpy. Athugið að hvert svar á að vera einungis ein lína af Python kóða. Ef einhver aðgerð er ekki vel skilgreind í línulegri algebru þá merkið þið það svar sérstaklega og skilið ekki Python kóða.\n",
    "\n",
    "1. $a+2b$\n"
   ]
  },
  {
   "cell_type": "code",
   "execution_count": 9,
   "metadata": {},
   "outputs": [
    {
     "name": "stdout",
     "output_type": "stream",
     "text": [
      "[13 16 19 22 26]\n"
     ]
    }
   ],
   "source": [
    "import numpy as np\n",
    "a = np.array([1,2,3,4,6])\n",
    "b = np.array([6,7,8,9,10])\n",
    "\n",
    "print(a+2*b)"
   ]
  },
  {
   "cell_type": "markdown",
   "metadata": {},
   "source": [
    "$\\left[ \\begin{array}{c} a \\\\ b \\end{array} \\right]$"
   ]
  },
  {
   "cell_type": "code",
   "execution_count": 11,
   "metadata": {},
   "outputs": [
    {
     "data": {
      "text/plain": [
       "array([ 1,  2,  3,  4,  6,  6,  7,  8,  9, 10])"
      ]
     },
     "execution_count": 11,
     "metadata": {},
     "output_type": "execute_result"
    }
   ],
   "source": [
    "np.hstack([a,b])"
   ]
  },
  {
   "cell_type": "markdown",
   "metadata": {},
   "source": [
    "$ a+ 1_4$\n",
    "#### ekki vel skilgreint í stærðfræði"
   ]
  },
  {
   "cell_type": "markdown",
   "metadata": {},
   "source": [
    "$ 2 + b$\n",
    "#### ekki vel skilgreint í stærðfræði"
   ]
  },
  {
   "cell_type": "markdown",
   "metadata": {},
   "source": [
    "$a_1 + b_2 - a^T b$"
   ]
  },
  {
   "cell_type": "code",
   "execution_count": 12,
   "metadata": {},
   "outputs": [
    {
     "name": "stdout",
     "output_type": "stream",
     "text": [
      "-132\n"
     ]
    }
   ],
   "source": [
    "print(a[0] + b[1] - np.dot(a,b))"
   ]
  },
  {
   "cell_type": "markdown",
   "metadata": {},
   "source": [
    "2\\. Dæmi 1.6 í bók. *Viðbót*: Gefið einnar línu Python kóða sem notar numpy aðgerð(ir) til að reikna mismunavigurinn fyrir $x=(0,2,-1,4,6)$."
   ]
  },
  {
   "cell_type": "code",
   "execution_count": 13,
   "metadata": {},
   "outputs": [
    {
     "name": "stdout",
     "output_type": "stream",
     "text": [
      "[ 2 -3  5  2]\n"
     ]
    }
   ],
   "source": [
    "# 2. (Dæmi 1.6)\n",
    "x=np.array([0,2,-1,4,6])\n",
    "n=len(x)\n",
    "d=x[1:n] - x[0:n-1]\n",
    "print(d)\n"
   ]
  },
  {
   "cell_type": "markdown",
   "metadata": {},
   "source": [
    "3\\. Dæmi 1.10 í bók."
   ]
  },
  {
   "cell_type": "code",
   "execution_count": 16,
   "metadata": {
    "collapsed": true
   },
   "outputs": [],
   "source": [
    "# 3. (Dæmi 1.10)\n",
    "#r=[h1,h2,h3,h4,h5,h6,h7,h8,midterm,final]\n",
    "#w=[0.25*100/10/8, ..., 0.25*100/10/8, 0.35*100/120, 0.40*100/160]\n",
    "w=[0.3125, ..., 0.3125, 0.2917, 0.2500]\n"
   ]
  },
  {
   "cell_type": "markdown",
   "metadata": {},
   "source": [
    "4\\. Í þessu dæmi átt þú að mæla hversu langan tíma tölvan þín er að reikna innfeldi tveggja vigra af lengd $10^8$ (100 milljón) og ákvarða (mjög gróflega) í framhaldinu hversu marga milljarða fleytitöluaðgerðir tölvan getur framkvæmt á sekúndu (Gflops/sec).\n",
    "\n",
    "Notið `numpy.random.random` fallið í til að búa til tvo slembivigra af lengd $10^8$ (stökin í vigrunum eru tölur sem eru valdar af handahófi á bilinu 0 til 1), reiknið innfeldi vigranna með numpy og mælið tímann sem það tekur. Hversu mörg Gflops/sec getur tölvan þín framkvæmt? Hversu langan tíma tæki að reikna innfeldið í \"höndunum\" ef gert er ráð fyrir að maður geti framkvæmt eina fleytitöluaðerð á 10 sekúndna fresti, 8 klst á dag, alla daga ársins?\n",
    "\n",
    "`%time` galdraskipunin er notuð til að mæla tíma. Sjá nánar http://ipython.readthedocs.io/en/stable/interactive/magics.html#magic-time\n",
    "\n",
    "Til að fá nákvæmara tímamat getur þurft að keyra nokkrum sinnum (fyrsta keyrsla tekur líklega lengsta tímann). Til að fá meðaltíma úr nokkrum keyrslum getið þið notað `%timeit` galdraskipunina.\n",
    "\n",
    "*Athugasemd*: Ef tölvan ræður ekki við vigra af lengd $10^8$ þá þurfið þið að nota vigra með færri stökum, t.d. $10^7$."
   ]
  },
  {
   "cell_type": "code",
   "execution_count": 19,
   "metadata": {},
   "outputs": [
    {
     "name": "stdout",
     "output_type": "stream",
     "text": [
      "Wall time: 96.7 ms\n"
     ]
    }
   ],
   "source": [
    "n=10**8\n",
    "a=np.random.random(n)\n",
    "b=np.random.random(n)\n",
    "\n",
    "%time s=a.dot(b)\n",
    "# Fjöldi fleytitöluaðgerða í innfeldi tveggja n staka vigra er n margfeldi og n-1 samlagningar, þ.e. 2n-1 aðgerðir\n",
    "# Fjöldi fleytitöluaðgerða/sek er þá (2n-1)/t þar sem t er tíminn sem keyrslan hér að ofan tók (í sek) og n=10**8.\n",
    "# Tölvan mín er 73ms að framkvæma innfeldið og það svarar til 2.7 Gflops/s\n",
    "#\n",
    "# Maður sem getur framkvæmt 360 aðgerðir á klst, þ.e. 2880 aðgerðir á dag yrði 2*10**8/2880=69444 daga\n",
    "# að framkvæma útreikningana en það svarar til 190 ára."
   ]
  },
  {
   "cell_type": "markdown",
   "metadata": {},
   "source": [
    "5\\. Fyrir sérhvern lið hér að neðan eigið þið að skrifa stutt Python forrit sem útbýr vigurinn $a$ sem um er beðið. Notið `numpy.array` til að geyma $a$. Sannreynið að $a^T x$ gefi rétt svar með því að nota slembivigur $x$ (notið `numpy.random.random` fallið).\n",
    "\n",
    "1. $a^T x$ \"velur\" (er jafnt og) 5. stak í 10-vigrinum $x$.\n",
    "2. $a^T x$ er vegið meðaltal 3-vigurs $x$ þar sem fyrsta stakið hefur vægi 0.3, annað stakið vægi 0.4 og þriðja stakið vægi 0.3.\n",
    "3. $a^T x$ er meðaltal þeirra 5 staka sem eru í miðjum 11-vigrinum $x$.\n"
   ]
  },
  {
   "cell_type": "code",
   "execution_count": 18,
   "metadata": {},
   "outputs": [
    {
     "name": "stdout",
     "output_type": "stream",
     "text": [
      "[ 0.06212425  0.10622288  0.40395059  0.11464374  0.24924235  0.31723745\n",
      "  0.65335475  0.9216703   0.93151158  0.5554826 ]\n",
      "Fimmta stak er  0.249242351808\n",
      "0.249242351808\n",
      "[ 0.95627955  0.87082439  0.95384748]\n",
      "Vegið meðaltal x er  0.921367863615\n",
      "[ 0.24313695  0.22431085  0.74650109  0.15805742  0.11148029  0.31077239\n",
      "  0.1305293   0.30028403  0.7239665   0.47525428  0.69836129]\n",
      "Meðaltal 5 staka í miðjum vigri er  0.17061320028\n"
     ]
    }
   ],
   "source": [
    "# 5.\n",
    "# i)\n",
    "n=10\n",
    "x=np.random.random(n)\n",
    "a=np.zeros(n)\n",
    "a[4]=1\n",
    "print(x)\n",
    "print(\"Fimmta stak er \", x[4])\n",
    "print(a.dot(x))\n",
    "\n",
    "# ii)\n",
    "n=3\n",
    "x=np.random.random(n)\n",
    "a=np.array([0.3, 0.4, 0.3])\n",
    "print(x)\n",
    "print(\"Vegið meðaltal x er \", a.dot(x))\n",
    "\n",
    "# iii)\n",
    "n=11\n",
    "x=np.random.random(11)\n",
    "a=np.zeros(11)\n",
    "a[4:8]=1/5\n",
    "print(x)\n",
    "print(\"Meðaltal 5 staka í miðjum vigri er \", a.dot(x))"
   ]
  },
  {
   "cell_type": "markdown",
   "metadata": {},
   "source": [
    "# Tíma Dæmi 2\n"
   ]
  },
  {
   "cell_type": "markdown",
   "metadata": {},
   "source": [
    "1\\. Til að sýna að falll f(x) er línulegt er nóg að sýna vigur a sem er þannig að f(x) = $a^T x$ . sýnið að mismunur fyrsta og síðasta staks í n-vigri sé línulegt fall f(x) = $x_n - x_1$"
   ]
  },
  {
   "cell_type": "markdown",
   "metadata": {
    "collapsed": true
   },
   "source": [
    "**Lausn**: Læt $a_i=0$ fyrir $i=2,\\ldots,n-1$ og $a_1=-1$ og $a_n=1$."
   ]
  },
  {
   "cell_type": "markdown",
   "metadata": {},
   "source": [
    "2\\. til að sýna að fall sé ólínulegt er nóg að finna tiltekna $x $ og $y $ vigra og tölur $alpha $ $beta $ þannig að $f(\\alpha x + \\beta y) \\neq  \\alpha f(x) + \\beta f(y) $\n",
    "\n",
    "sýnið að fallið $f(x) = max_k x_k - min_k x_k $\n",
    "\n",
    "Dæmi: $ f((4, 3, 1, 2)) = 4 - 1 = 3 $"
   ]
  },
  {
   "cell_type": "markdown",
   "metadata": {
    "collapsed": true
   },
   "source": [
    "**Lausn**: Með $x=(-1,1), y=(1,-1)$ og $a=b=1$ fæst $\\max\\{x_1,x_2\\}=1, min\\{x_1,x_2\\}=-1, max\\{y_1,y_2\\}=1$ og $\\min\\{y_1,y_2\\}=-1$.\n",
    "Þá er $f(\\alpha x + \\beta y) = f( (-1,1)+(1,-1) ) = f( (0,0) ) = 0 - 0 = 0$ en\n",
    "$\\alpha f(x) + \\beta f(y) = (1 - (-1)) + (1 - (-1)) = 2 + 2 = 4$. Fallið $f(x)$ er því ekki línulegt.\n"
   ]
  },
  {
   "cell_type": "markdown",
   "metadata": {},
   "source": [
    "3\\. Skrifið Pyhon fall sem reiknar stærðina $ x - avg(x)$. Þið megið nota Numpy föllin dot, ones, sum, sqrt og öll svið í ndarray, t.d. ndim og shape. fallið tekur viguri $ x $ af taginu numpy.ndarray"
   ]
  },
  {
   "cell_type": "code",
   "execution_count": 21,
   "metadata": {},
   "outputs": [],
   "source": [
    "def demean(x):\n",
    "    n=x.shape[0]\n",
    "    avg = np.dot((1/n)*np.ones(n), x)\n",
    "    x = x - avg\n",
    "    return x"
   ]
  },
  {
   "cell_type": "code",
   "execution_count": null,
   "metadata": {
    "collapsed": true
   },
   "outputs": [],
   "source": []
  }
 ],
 "metadata": {
  "kernelspec": {
   "display_name": "Python 3",
   "language": "python",
   "name": "python3"
  },
  "language_info": {
   "codemirror_mode": {
    "name": "ipython",
    "version": 3
   },
   "file_extension": ".py",
   "mimetype": "text/x-python",
   "name": "python",
   "nbconvert_exporter": "python",
   "pygments_lexer": "ipython3",
   "version": "3.6.3"
  }
 },
 "nbformat": 4,
 "nbformat_minor": 2
}
