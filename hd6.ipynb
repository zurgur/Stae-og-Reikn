{
 "cells": [
  {
   "cell_type": "markdown",
   "metadata": {},
   "source": [
    "# REI201G Heimaverkefni 6\n",
    "\n",
    "Sjötti heimadæmaskammtur er úr kafla 11 (fylkjaandhverfur) og grein 12.1 (minnstu kvaðrata verkefni) í kennslubók og á að skila dæmunum föstudaginn 23. mars. Lausnum á að skila á Gradescope í formi Jupyter vinnubókar á PDF sniði (Velja File/Download as HTML, opna skrá í vafra og prenta í PDF skrá). Númer á dæmum hér að neðan vísa í kennslubók. **Gætið þess að sýna útkomu úr keyrslum þar sem það á við**.\n",
    "\n",
    "Í dæmatíma í næstu viku verður farið yfir tímadæmi en restin af tímanum verður svo notuð til að vinna í heimadæmum.\n",
    "\n",
    "Eftirfarandi reglur gilda um heimadæmaskil:\n",
    "\n",
    "Þeir nemendur sem vinna að lausn heimadæma með öðrum þurfa alltaf að skrifa upp og skila inn sinni eigin lausn. Þeir þurfa ennfremur að tilgreina með hverjum var unnið að lausn verkefnisins. ** Það er óheimilt að fá lausnir hjá öðrum, afrita lausnir eða láta aðra fá lausnina sína. Ef kennari verður var við afritaðar lausnir mun hann lækka einkunn fyrir viðkomandi verkefni. ** Hikið ekki við að leita til kennara ef þið eruð í vafa um hvað telst eðlileg samvinna og hvað ekki.\n",
    "\n",
    "*Athugið*: Til að hljóta próftökurétt þarf að skila 3 heimaverkefnum af fyrstu 5 og hljóta að lágmarki 5.0 í meðaleinkunn fyrir 3 bestu verkefnin."
   ]
  },
  {
   "cell_type": "markdown",
   "metadata": {},
   "source": [
    "## Heimadæmi\n",
    "\n",
    "1\\. [2 stig] Útfærið QR þáttun (sjá bls. 190) á ferningsfylki $A$ með Gram-Schmidt aðferðinni (sjá reiknirit 5.1 bls. 97 og tímaverkefni 1). Útfærið þáttunina sem fall í Python sem notar eingöngu einföld NumPy föll á borð við `dot` og `norm`. Notið beinagrindina hér að neðan og sannreynið kóðann ykkar á nokkrum ferningslaga fylkjum, bæði fylkjum með línulega háðum dálkum og línulega óháðum (það á ekki að sýna þær niðurstöður). Ákvarðið QR þáttun fylkisins `A=numpy.array([[1,2,0],[0,1,1],[1,0,1]])` með forritinu ykkar og reiknið skekkjuna í þáttuninni, $||A - QR||$ (þið ættuð að fá tölu sem er mjög nálægt núlli)."
   ]
  },
  {
   "cell_type": "code",
   "execution_count": 1,
   "metadata": {},
   "outputs": [],
   "source": [
    "import numpy as np\n",
    "def qr(A):\n",
    "    \"\"\" QR þáttun\n",
    "    Inntak: Ferningsfylki A\n",
    "    Úttak:  Q, R, b þar sem Q er n x n fylki, af þverstöðluðum dálkvigrum,\n",
    "            R n x n eru stuðlar efra þríhyrningsfylkis þ.a. A=QR\n",
    "            b er True ef dálkar A eru línulega óháðar en annars False \"\"\"\n",
    "    n,k = A.shape # n er fjöldi raða, k er fjöldi dálka\n",
    "    assert(n == k)  # A verður að vera ferningsfylki\n",
    "    ohadir_dalkar = true # eru dálkarnir línulega óháðir?\n",
    "    Q = np.zeros((n,n)) # núllstillt fylki til að byrja með\n",
    "    R = np.zeros((n,n)) # þríhyrningsfylki en meðhöndlum sem fullskipað fylki\n",
    "    # Setjið kóða inn hér\n",
    "    # ...\n",
    "    return Q,R,ohadir_dalkar"
   ]
  },
  {
   "cell_type": "markdown",
   "metadata": {},
   "source": [
    "2\\. [2 stig] \n",
    "\n",
    "a) Útfærið endurinnsetningu (reiknirit 11.1 bls. 207) í Python með Numpy. Notið beinagrindina hér að neðan og einföld föll á borð við `numpy.dot`. Leysið síðan $Rx=b$ með kóðanum ykkar þegar `R=numpy.array([[1,4,1],[0,6,4],[0,0,2]])` er efra þríhyrningafylki og b=numpy.array([3,2,1])."
   ]
  },
  {
   "cell_type": "code",
   "execution_count": null,
   "metadata": {
    "collapsed": true
   },
   "outputs": [],
   "source": [
    "def backsub(R,b):\n",
    "    \"\"\" Endurinnsetning\n",
    "    Inntak: n x n efra þríhyrningsfylki R (meðhöndlað hér sem hefðbundið fylki)\n",
    "            n-vigur b\n",
    "    Úttak:  Lausn x á Rx=b \"\"\"\n",
    "    n=R.shape[0]\n",
    "    x=np.zeros(n)\n",
    "    # Setjið kóða inn hér\n",
    "    # ...\n",
    "    return x"
   ]
  },
  {
   "cell_type": "markdown",
   "metadata": {},
   "source": [
    "b) Útfærið reiknirit sem leysir línuleg ferningslaga jöfnuhneppi $Ax=b$ með QR þáttun og endurinnsetningu (sjá reiknirit 11.2 bls. 208). Notið beinagrindina hér að neðan og `qr` og `backsub` föllin ykkar ásamt NumPy. Leysið síðan jöfnuhneppið $Ax=b$ með `A=numpy.array([[1,2,-1],[-1,1,1],[1,-4,1]])` og `b=numpy.array([1,2,3]) með forritinu ykkar "
   ]
  },
  {
   "cell_type": "code",
   "execution_count": null,
   "metadata": {
    "collapsed": true
   },
   "outputs": [],
   "source": [
    "def linsolve(A,b):\n",
    "    \"\"\" Leysir jöfnuhneppið Ax=b\"\"\"\n",
    "    # Setjið kóða inn hér\n",
    "    # ...\n",
    "    return x"
   ]
  },
  {
   "cell_type": "markdown",
   "metadata": {},
   "source": [
    "3\\. [2 stig] Útbúið $1000 \\times 1000$ fylki $A$ með slembitölum og 1000 staka slembivigur $b$ og leysið jöfnuhneppið $Ax=b$ á eftirfarandi hátt:\n",
    "\n",
    "i) Með því að reikna andhverfuna $A^{-1}$ með `numpy.linalg.inv` og reikna síðan $Ax=b$.\n",
    "\n",
    "ii) Með því að nota `linsolve` fallið ykkar úr dæmi 2)\n",
    "\n",
    "iii) Með því að nota `numpy.linalg.solve`\n",
    "\n",
    "Mælið skekkju í lausn, $||Ax-b||$ í öllum tilvikum (ætti að vera mjög nálægt núlli).\n",
    "\n",
    "Mælið síðan tímann sem aðferðirnar þrjár taka með því að nota `@timeit` galdraskipunina. Gætið þess að hafa alla útreikninga með í tímamælingum (setjið kóða í sér föll). Hvaða munur er á niðurstöðunum og hvernig má skýra hann?"
   ]
  },
  {
   "cell_type": "code",
   "execution_count": null,
   "metadata": {},
   "outputs": [],
   "source": [
    "A=np.random.rand(1000,1000)\n",
    "b=np.random.rand(1000)\n",
    "\n",
    "# Kóðinn ykkar kemur hér\n",
    "# ..."
   ]
  },
  {
   "cell_type": "markdown",
   "metadata": {},
   "source": [
    "4\\. [2 stig] Samgöngukerfi í stórborg, t.d. neðjanjarðarlestarkerfi, samanstendur af $n$ leggjum milli stöðva. Farþegar koma inn í kerfið á einni stöð (brottfararstöð), ferðast eftir einum eða fleiri legg og fara út úr kerfinu á annarri stöð (komustöð). Fjargjaldakerfi heldur utan ferðir farþega $i$ og skráir eftirfarandi upplýsingar: $s_i$ sem er upphafstími ferðalags (þegar farþegi kemur á brottfararstöð) og er mældur í mínútum sem hafa liðið frá klukkan 6:00 að morgni, $f_i$ sem er lokatími ferðalags (þegar farþegi fer út af komustöð) og loks heldur kerfið utan um röð leggja á ferðalaginu. Dæmi: $s_i=128,~f_i=144$ og tengdur listi (3,7,8,10,4) táknar að farþeginn kom inn á brottfararstöð kl. 8:08, fór út af komustöð kl. 8:24 og ferðast eftir leggjum 3,7,8,10 og 4 (í þessari röð). Heildartími sem ferðalagið tekur er $f_i - s_i$.\n",
    "\n",
    "Við gerum ráð fyrir að tími sem ferðalag taki sé summa yfir tíma sem tekur að ferðast eftir einstökum leggjum á leiðinni (þetta val á líkani ætti að vera nokkuð augljóst). Látum $d_i$ svara til þess tíma sem tekur að ferðast eftir legg $i$, $i=1,\\ldots,n$. Við þekkjum ekki þessa tíma en við viljum meta þá út frá upplýsingum sem fargjaldakerfið geymir ($s_i$, $f_i$ og röð leggja) um ferðir $m$ farþega í kerfinu. Við gerum ráð fyrir að $m$ sé mjög stór tala.\n",
    "\n",
    "Við matið notum við aðferð minnstu kvaðrata (e. least squares). Matið $\\hat{d}$ á tímum sem einstakir leggja taka fæst með því að lágmarka norm í 2. veldi af leif (e. residual) ferðatímalíkans. Með öðrum orðum, við veljum $\\hat{d}$ þannig að það lágmarki $||R\\hat{d} - c||^2$ fyrir eitthvað $m \\times n$ fylki $R$ og einhvern $m$-vigur $c$. Lýsið $R$ og $c$ með ykkar eigin orðum, þ.e. hvað stök þeirra tákna í samhenginu sem er lýst hér að ofan.\n",
    "\n",
    "*Athugasemd* Þetta er dæmi um svokallað *network tomography* verkefni en slík verkefni koma m.a. við sögu við greiningu á tölvunetum."
   ]
  },
  {
   "cell_type": "markdown",
   "metadata": {},
   "source": [
    "## Tímadæmi\n",
    "\n",
    "1\\. Útfærið Gram-Schmidt reikniritið á bls. 97 í Python með því að nota NumPy.\n",
    "\n",
    "2\\. Búið til $n \\times n$ slembifylki $A$ með NumPy og athugið hvort að dálkarnir séu línulega óháðir með því\n",
    "að nota Gram-Schmidt reikniritið úr dæmi 1. Keyrið þetta 1000 sinnum fyrir $n=10$ og athugið hve oft dálkarnir eru línulega óháðir."
   ]
  },
  {
   "cell_type": "code",
   "execution_count": 38,
   "metadata": {},
   "outputs": [],
   "source": [
    "# Orthogonalization. qi' = ai - (q1 T ai)q1 - ... - (qi-1 T ai)qi-1\n",
    "# test for linear dependancy if qi' = 0 quit\n",
    "# normilazation qi = qi' / || qi'||\n",
    "def gram(A):\n",
    "    # þarf að hafa þetta til þess að commpera við 32bit\n",
    "    # því python og öll forritunar mál missa nákvæmni\n",
    "    epson = 1e-8\n",
    "    n,k = A.shape\n",
    "    qs = np.zeros((n,k))\n",
    "    for i in range(k):\n",
    "        qi = A[:,i]\n",
    "        for j in range(i):\n",
    "            qi = qi - np.dot(qs[:,j].T,A[:,i]) * qs[:,j]\n",
    "        if np.linalg.norm(qi) <= epson:\n",
    "            return qs[:,:i], False\n",
    "        qs[:,i] = qi / np.linalg.norm(qi)\n",
    "    return qs, True"
   ]
  },
  {
   "cell_type": "code",
   "execution_count": 39,
   "metadata": {
    "scrolled": true
   },
   "outputs": [
    {
     "name": "stdout",
     "output_type": "stream",
     "text": [
      "(array([[1., 0.],\n",
      "       [0., 1.]]), False)\n",
      "(array([[-0.5,  0.5, -0.5],\n",
      "       [ 0.5,  0.5, -0.5],\n",
      "       [-0.5,  0.5,  0.5],\n",
      "       [ 0.5,  0.5,  0.5]]), True)\n"
     ]
    }
   ],
   "source": [
    "# profa gram \n",
    "print(gram(np.array([[1,0],[0,1],[1,1]]).T)) # línulega háðir 2-vigrar\n",
    "\n",
    "print(gram(np.array([[-1,1,-1,1], [-1,3,-1,3], [1,3,5,7]]).T)) # Sýnidæmi bls. 100"
   ]
  },
  {
   "cell_type": "code",
   "execution_count": 35,
   "metadata": {},
   "outputs": [],
   "source": [
    "# 2 profa med slembi fylki"
   ]
  },
  {
   "cell_type": "code",
   "execution_count": 37,
   "metadata": {},
   "outputs": [
    {
     "name": "stdout",
     "output_type": "stream",
     "text": [
      "dalkarnir voru ohadir i  1000  spipti af 1000\n"
     ]
    }
   ],
   "source": [
    "itranir = 1000\n",
    "n = 10\n",
    "s = 0\n",
    "for k in range (itranir):\n",
    "    A=np.random.rand(n,n)\n",
    "    Q, ohad = gram(A)\n",
    "    if ohad:\n",
    "        s=s+1\n",
    "print('dalkarnir voru ohadir i ', s, ' spipti af', itranir)"
   ]
  },
  {
   "cell_type": "code",
   "execution_count": null,
   "metadata": {},
   "outputs": [],
   "source": []
  }
 ],
 "metadata": {
  "kernelspec": {
   "display_name": "Python 3",
   "language": "python",
   "name": "python3"
  },
  "language_info": {
   "codemirror_mode": {
    "name": "ipython",
    "version": 3
   },
   "file_extension": ".py",
   "mimetype": "text/x-python",
   "name": "python",
   "nbconvert_exporter": "python",
   "pygments_lexer": "ipython3",
   "version": "3.5.2"
  }
 },
 "nbformat": 4,
 "nbformat_minor": 2
}
