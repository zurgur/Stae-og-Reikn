{
 "cells": [
  {
   "cell_type": "markdown",
   "metadata": {},
   "source": [
    "# Fyrirlestur 3\n",
    "\n",
    "Dagsetning: 28. febrúar\n",
    "\n",
    "Python uppsetning"
   ]
  },
  {
   "cell_type": "code",
   "execution_count": 5,
   "metadata": {},
   "outputs": [],
   "source": [
    "import numpy as np\n",
    "import math"
   ]
  },
  {
   "cell_type": "markdown",
   "metadata": {},
   "source": [
    "Helsta efni:\n",
    " - fara yfir sýðustu verkefin \n",
    " - fara yfir heima dæmi\n",
    " - smá python kyning"
   ]
  },
  {
   "cell_type": "markdown",
   "metadata": {},
   "source": [
    "# Heimadæmi\n",
    "1\\. Til að sýna að fall $f(x)$ sé línulegt er nóg að sýna vigur $a$ sem er þannig að $f(x)=a^Tx$. \n",
    "\n",
    "a) Sýnið að meðaltal staka í sætum með slétt sætisnúmer í $n$-vigri sé línulegt fall. Þið megið gera ráð fyrir að $n$ sé slétt tala, $n=2k$. *Dæmi*: $f((1,2,3,4))= 2/2 + 4/2 = 3$. \n",
    "\n",
    "**Lausn**: Set $a_i=0$ fyrir oddatölu $i$ en $a_i=2/n$ fyrir slétt $i$, $i=1,\\ldots,n$.\n",
    "\n",
    "b) Sýnið að eftirfarandi \"brúun\" á $n$-vigri sé línulegt fall, $x_n + (x_n - x_{n-1})$ fyrir $n \\geq 2$ (þetta er einföld aðferð til að spá fyrir um gildi á $x_{n+1}$ sem byggir á að teikna línu gegnum $x_n$ og $x_{n-1}$).\n",
    "\n",
    "**Lausn**: $a$ er $n$-vigur með stökum $a=(0,...,0,-1,2)$.\n",
    "\n",
    "\n",
    "2\\. Til að sýna að fall sé ólínulegt er nóg að finna tiltekna vigra $x$ og $y$ og tölur $\\alpha$ og $\\beta$ þannig að\n",
    "$\n",
    "  f(\\alpha x + \\beta y) \\neq \\alpha f(x) + \\beta f(y).\n",
    "$\n",
    "\n",
    "a) Sýnið að $f(x)=(x_1-x_2+x_3)^2$ sé ólínulegt fall.\n",
    "\n",
    "**Lausn**: $x=(1,1,1), y=(-1,-1,-1), \\alpha=\\beta=1$. Þá er $f(\\alpha x + \\beta y)= f( (0,0,0) ) = 0$ en $\\alpha f(x) + \\beta f(y) = (1-1+1)^2 + (-1+1-1)^2 = 1 + 1 = 2$ þ.a. $f(x)$ er ólínulegt.\n",
    "\n",
    "b) Sýnið að miðgildi $n$-vigurs sé ólínulegt fall. Gerið ráð fyrir að $n$ sé oddatala, þ.e. $n=2k+1$. Miðgildi vigurs er skilgreint sem $(k+1)$-stærsta stakið. *Dæmi*: Miðgildi vigursins (-1.2, 1, 3, 0.5, -2) er 0.5.\n",
    "\n",
    "**Lausn**: Vel $x=(1,3,2)$, $y=(2,-3,3)$ og $\\alpha=\\beta=1$. Þá fæst\n",
    "$f(\\alpha x + \\beta y)=f((1,3,2) + (2,-3,3))=f( (3,0,5)) = 3$ en $\\alpha f(x) + \\beta f(y)=(1)2+(1)2 = 4$ þ.a. fallið er ekki línulegt.\n",
    "\n",
    "3.Skrifið Python föll sem reikna stærðirnar hér að neðan. Þið megið nota Numpy föllin `dot`, `ones`, `sum`, `sqrt` og öll svið í `ndarray`, t.d. `ndim` og `shape`. Föllin taka inn vigur $x$ eða vigra $x$ og $y$.\n",
    "\n",
    "a) $||x||^2$\n",
    "\n",
    "b) **std**$(x)$\n",
    "\n",
    "c) $\\rho = \\frac{\\tilde{x}^T \\tilde{y}}{||\\tilde{x}|| ||\\tilde{y}||}$ (hér táknar $\\tilde{x} - \\textbf{avg}(x)$, sjá nánar bls. 60 í bók).\n",
    "\n",
    "\n",
    "4\\. Notið Python og Numpy til að finna *næsta nágranna* við $a=(1,3,4)$ meðal vigranna\n",
    "$$\n",
    "x_1=(4,3,5),\\qquad x_2=(0.4,10,50),\\qquad x_3=(1,4,10),\\qquad x_4=(30,40,50).\n",
    "$$\n",
    "(Næsti nágranni $a$ meðal vigra $x_1,\\ldots x_m$ er sá vigur $x_k$ sem er í stystri fjarlægð frá $a$).\n",
    "\n",
    "Hver vigranna $x_1,\\ldots,x_4$ er næsti nágranni $a$ og hver er fjarlægð $a$ í hann?\n",
    "Hver vigranna $x_1,\\ldots,x_4$ myndar minnsta horn við $a$? Tilgreinið líka þetta horn.\n",
    "\n",
    "*Ábending*: Sjá vika_02.pynb á Piazza. Notið `math.acos` til að reikna arccos fallið (andhverfa kósínius fallsins)."
   ]
  },
  {
   "cell_type": "code",
   "execution_count": 6,
   "metadata": {},
   "outputs": [],
   "source": [
    "# Lausn á heimadæmi 3\n",
    "def avg(x):\n",
    "    n=x.shape[0]\n",
    "    return np.dot((1/n)*np.ones(n), x)\n",
    "def sqnorm(x):\n",
    "    return np.dot(x,x)\n",
    "def std(x):\n",
    "    n=x.shape[0]\n",
    "    s = x - avg(x)*np.ones(n)\n",
    "    return np.sqrt(np.dot(s,s)/n)\n",
    "def cor(x,y):\n",
    "    x = x - avg(x)\n",
    "    y = y - avg(y)\n",
    "    normx = np.sqrt(np.dot(x,x))\n",
    "    normy = np.sqrt(np.dot(y,y))\n",
    "    return np.dot(x,y)/(normx*normy)"
   ]
  },
  {
   "cell_type": "code",
   "execution_count": 7,
   "metadata": {},
   "outputs": [
    {
     "name": "stdout",
     "output_type": "stream",
     "text": [
      "[ 3.16227766 46.53342884  6.08276253 65.77233461]\n",
      "[0.41465511 0.48187704 0.28041747 0.24256387]\n",
      "Næsti nágranni a er  [4. 3. 5.] fjarlægðin er  3.1622776601683795\n",
      "Vigur sem myndar minnsta horn er  [30. 40. 50.] hornið er  0.24256387409548533\n"
     ]
    }
   ],
   "source": [
    "# Lausn á heimadæmi 4\n",
    "\n",
    "a=np.array([1,3,4])\n",
    "X=np.array([[4,3,5],[0.4,10,50],[1,4,10],[30,40,50]])\n",
    "\n",
    "n,m=X.shape\n",
    "fjarl=np.zeros(n)\n",
    "horn=np.zeros(n)\n",
    "for i in range(n):\n",
    "    fjarl[i]=np.linalg.norm(a - X[i,:])\n",
    "    horn[i]=math.acos(np.dot(a,X[i,:])/(np.linalg.norm(a)*np.linalg.norm(X[i,:])))\n",
    "print(fjarl)\n",
    "print(horn)\n",
    "\n",
    "j=np.argmin(fjarl) # Númer minnsta staks í 'fjarl'\n",
    "k=np.argmin(horn)\n",
    "print(\"Næsti nágranni a er \", X[j,:], \"fjarlægðin er \", fjarl[j])\n",
    "print(\"Vigur sem myndar minnsta horn er \", X[k,:], \"hornið er \", horn[k])  \n"
   ]
  },
  {
   "cell_type": "markdown",
   "metadata": {},
   "source": [
    "# Tímadæmi\n",
    " \n",
    "1\\. Dæmi 4.2 í bók.\n",
    "\n",
    "**Lausn**:\n",
    "\n",
    "a) [Teiknið mynd af nokkrum punktum sem mynda 2 hópa í pósitífa fjórðungi hnitakerfisins og sýnið miðpunktar hópanna lenda líka í pósitífa fjórðungnum]. Nánar:\n",
    "\n",
    "Fulltrúi $z_j$ er meðaltal hlutmengis af vigrunum $x_1,\\ldots,x_N$, $$z_j = \\frac{1}{|G_j|} \\sum_{i \\in G_j} x_i$$ þar sem $G_j$ er mengi sem inniheldur vísa (e. indices) fyrir punktana sem eru í $z_j$ (sjá bls. 72 í bók). Meðaltal af ekki-neikvæðum stærðum verður alltaf ekki-neikvætt.\n",
    "\n",
    "b) [Hér er gott að byrja á einföldu dæmi. G.r.f. að $G_1=\\{1,2\\}$ og $x_1=(0.3, 0.7)$ og $x_2=(0.1, 0.9)$ þá er $(z_1)_1=(0.3+0.1)/2=0.2$ og $(z_1)_2=(0.7+0.9)/2=0.8$ og þá $(z_1)_1 + (z_1)_2 = 0.2 + 0.8 = 1$] Nánar:\n",
    "\\begin{eqnarray*}\n",
    "(z_j)_1 + \\ldots (z_j)_n = \\frac{1}{|G_j|} \\sum_{i \\in G_j} (x_i)_1 + \\ldots + \\frac{1}{|G_j|} \\sum_{i \\in G_j} (x_i)_n\n",
    "\t\t\t &=& \\frac{1}{|G_j|} \\sum_{i \\in G_j} ((x_i)_1 + \\ldots + (x_i)_n)\n",
    "\t\t\t &=& \\frac{1}{|G_j|} \\sum_{i \\in G_j} (1)\n",
    "\t\t\t &=& \\frac{1}{|G_j|} (|G_j|)(1)\n",
    "\t\t\t &=& 1.\n",
    "\\end{eqnarray*}\n",
    "\n",
    "c) $i$-ta stak $j$-ta fulltrúa, $(z_j)_i$, má túlka sem hlutfall $x$-vigra í hópi $j$ sem hafa $i$-ta stak jafnt einum. Ef $x$ geymir t.d. upplýsingar um sjúklinga og $(x_\\ell)_i$ er 1 ef sjúklingur $\\ell$ hefur verk fyrir brjósti þá er $(z_j)_i$ hlutfall sjúklinga í hópi $j$ með brjóstverk.\n",
    "\n",
    "\n",
    "2\\. Dæmi 5.1 í bók.\n",
    "\n",
    "**Lausn**:\n",
    "\n",
    "a) Nei. Mótdæmi eru vigrar $a_1,\\ldots a_k$ og $b_1,\\ldots,b_k$ með $k > n+m$ sbr. setningu í grein 5.2 sem segir að línulega óháð safn af  $n$-vigrum getur mest haft  $n$--stök. Með öðrum orðum, sérhvert safn  $n+1$ eða fleiri $n$-vigra er línulega háð.\n",
    "\n",
    "b) Nei. Motdæmi er t.d. $a_1=(1,0),~a_2=(2,0)$ og $b_1=(0),~ b_2=(1)$. Vigrarnir $a_1$ og $a_2$ eru línulega háðir en blokkvigrarnir $c_1$ og $c_2$ eru línulega óháðir.\n",
    "\n",
    "\n",
    "3\\. Dæmi 5.6 í bók.\n",
    "\n",
    "**Lausn**:\n",
    "Þar sem $||a_1||=1$ er $q_1=a_1$.\n",
    "Vigurinn $q_2 = a_2 - (q_1^T a_2) q_1 = (1,1,0,\\ldots,0) - ((1,0,\\ldots,0)^T(1,1,0,\\ldots,0))(1,0,\\ldots, 0) \n",
    "\t      = (1,1,0,\\ldots,0) - 1(1,0,\\ldots,0) = (0,1,0,\\ldots,0)$.\n",
    "Á sama hátt fæst að $q_3 = (0,0,1,0,\\ldots,0)$ og almennt að $q_i=e_i$ (þar sem $e_i$ táknar $i$-ta einingavigur). Reikniritið keyrir þannig til enda og $a_1,\\ldots,a_k$ því grunnur."
   ]
  },
  {
   "cell_type": "markdown",
   "metadata": {},
   "source": [
    "# Sýnidæmi"
   ]
  },
  {
   "cell_type": "markdown",
   "metadata": {},
   "source": [
    "Fylki eru af taginu `ndarray` alveg eins og vigrar"
   ]
  },
  {
   "cell_type": "code",
   "execution_count": 3,
   "metadata": {},
   "outputs": [
    {
     "name": "stdout",
     "output_type": "stream",
     "text": [
      "[[  0.    1.   -2.    0.2]\n",
      " [  1.4   0.   -1.   10. ]\n",
      " [  3.1  -1.    4.    5. ]]\n",
      "<class 'numpy.ndarray'>\n",
      "A.size =  12\n",
      "A.ndim =  2\n",
      "A.shape =  (3, 4)\n"
     ]
    }
   ],
   "source": [
    "A = np.array([[0,1,-2,0.2], [1.4,0,-1,10],[3.1, -1,4,5]]) # listi af listum\n",
    "print(A)\n",
    "print(type(A))\n",
    "print('A.size = ', A.size) # fjöldi staka í fylkinu\n",
    "print('A.ndim = ',A.ndim) # fjöldi vídda, 2 fyrir fylki\n",
    "print('A.shape = ',A.shape) # fjöldi raða, fjöldi dálka"
   ]
  },
  {
   "cell_type": "markdown",
   "metadata": {},
   "source": [
    "Tilvísun í stök virkar eins og fyrir vigra, byrjum að telja í 0"
   ]
  },
  {
   "cell_type": "code",
   "execution_count": 4,
   "metadata": {},
   "outputs": [
    {
     "name": "stdout",
     "output_type": "stream",
     "text": [
      "1.4\n",
      "1.4\n",
      "1.4\n"
     ]
    }
   ],
   "source": [
    "print(A[1][0]) # getum notað A[0][0] eins og í java\n",
    "print(A[1,0])  # getum líka vísað í stök með kommum á milli (tuple)\n",
    "v = (1,0)\n",
    "print(A[v])"
   ]
  },
  {
   "cell_type": "markdown",
   "metadata": {},
   "source": [
    "## Tilvísanir í dálka og raðir"
   ]
  },
  {
   "cell_type": "code",
   "execution_count": 5,
   "metadata": {},
   "outputs": [
    {
     "name": "stdout",
     "output_type": "stream",
     "text": [
      "[ 0.   1.  -2.   0.2]\n",
      "(4,)\n",
      "1\n"
     ]
    }
   ],
   "source": [
    "print(A[0]) # A[0] gefur fyrstu röð, línuvigur\n",
    "u = A[0]\n",
    "print(u.shape)\n",
    "print(u.ndim) # u er hérna n-vigur, en við gerum greinarmun í stærðfræði"
   ]
  },
  {
   "cell_type": "code",
   "execution_count": 6,
   "metadata": {},
   "outputs": [
    {
     "name": "stdout",
     "output_type": "stream",
     "text": [
      "[ 0.   1.4  3.1]\n",
      "(3,)\n",
      "1\n"
     ]
    }
   ],
   "source": [
    "print(A[:,0]) # A[:,0] gefur fyrsta dálk\n",
    "v = A[:,0]\n",
    "print(v.shape)\n",
    "print(v.ndim) # v er venjulegur vigur"
   ]
  },
  {
   "cell_type": "markdown",
   "metadata": {},
   "source": [
    "## Hlutfylki/blokkir"
   ]
  },
  {
   "cell_type": "code",
   "execution_count": 7,
   "metadata": {},
   "outputs": [
    {
     "name": "stdout",
     "output_type": "stream",
     "text": [
      "[[ 0.   1. ]\n",
      " [ 1.4  0. ]]\n"
     ]
    }
   ],
   "source": [
    "print(A[0:2,0:2]) # fyrstu tveir dálkar og tvær raðir"
   ]
  },
  {
   "cell_type": "markdown",
   "metadata": {
    "collapsed": true
   },
   "source": [
    "## Fylki úr dálkum\n",
    "Ef við höfum lista af vigrum þá getum við búið til fylki úr þeim með `column_stack` fallinu sem dálka, eða `vstack` með röðum"
   ]
  },
  {
   "cell_type": "code",
   "execution_count": 8,
   "metadata": {},
   "outputs": [
    {
     "name": "stdout",
     "output_type": "stream",
     "text": [
      "B =  [[ 0.  1.  0.]\n",
      " [ 0.  1.  0.]\n",
      " [ 0.  1.  0.]\n",
      " [ 0.  1.  0.]\n",
      " [ 0.  1.  0.]]\n",
      "C =  [[ 0.  0.  0.  0.  0.]\n",
      " [ 1.  1.  1.  1.  1.]\n",
      " [ 0.  0.  0.  0.  0.]]\n"
     ]
    }
   ],
   "source": [
    "v1 = np.zeros(5)\n",
    "v2 = np.ones(5)\n",
    "B = np.column_stack([v1,v2,v1])\n",
    "print('B = ',B)\n",
    "C = np.vstack([v1,v2,v1])\n",
    "print('C = ',C)"
   ]
  },
  {
   "cell_type": "markdown",
   "metadata": {},
   "source": [
    "## Sérstök fylki\n",
    "\n",
    "Núllfylkið og einingafylkið fást með föllunum `zeros` og `eye` (borið fram \"æ\")"
   ]
  },
  {
   "cell_type": "code",
   "execution_count": 9,
   "metadata": {},
   "outputs": [
    {
     "name": "stdout",
     "output_type": "stream",
     "text": [
      "Z =  [[ 0.  0.  0.  0.]\n",
      " [ 0.  0.  0.  0.]\n",
      " [ 0.  0.  0.  0.]]\n",
      "[[ 1.  0.  0.  0.  0.]\n",
      " [ 0.  1.  0.  0.  0.]\n",
      " [ 0.  0.  1.  0.  0.]\n",
      " [ 0.  0.  0.  1.  0.]\n",
      " [ 0.  0.  0.  0.  1.]]\n"
     ]
    }
   ],
   "source": [
    "Z = np.zeros((3,4)) # (3,4) þarf að vera í tuple, np.zeros(3,4) virkar ekki\n",
    "print('Z = ',Z)\n",
    "I = np.eye(5) # I er ferningslaga\n",
    "print(I)"
   ]
  },
  {
   "cell_type": "markdown",
   "metadata": {},
   "source": [
    "Hornalínufylki fást með `diag` fallinu"
   ]
  },
  {
   "cell_type": "code",
   "execution_count": 10,
   "metadata": {
    "scrolled": true
   },
   "outputs": [
    {
     "name": "stdout",
     "output_type": "stream",
     "text": [
      "[[1 0 0]\n",
      " [0 2 0]\n",
      " [0 0 3]]\n",
      "[[ 0.97678335  0.          0.          0.          0.        ]\n",
      " [ 0.          0.967279    0.          0.          0.        ]\n",
      " [ 0.          0.          0.37918655  0.          0.        ]\n",
      " [ 0.          0.          0.          0.60356313  0.        ]\n",
      " [ 0.          0.          0.          0.          0.87978343]]\n"
     ]
    }
   ],
   "source": [
    "C = np.diag([1,2,3]) # listi af tölum\n",
    "print(C)\n",
    "C = np.diag(np.random.random(5)) # eða numpy vigur\n",
    "print(C)"
   ]
  },
  {
   "cell_type": "markdown",
   "metadata": {},
   "source": [
    "## Bylt fylki\n",
    "\n",
    "fæst með `transpose` fallinu"
   ]
  },
  {
   "cell_type": "code",
   "execution_count": 12,
   "metadata": {},
   "outputs": [
    {
     "name": "stdout",
     "output_type": "stream",
     "text": [
      "A = \n",
      " [[  0.    1.   -2.    0.2]\n",
      " [  1.4   0.   -1.   10. ]\n",
      " [  3.1  -1.    4.    5. ]]\n",
      "A^T = \n",
      " [[  0.    1.4   3.1]\n",
      " [  1.    0.   -1. ]\n",
      " [ -2.   -1.    4. ]\n",
      " [  0.2  10.    5. ]]\n"
     ]
    }
   ],
   "source": [
    "print('A = \\n',A)\n",
    "AT = np.transpose(A) # líka hægt að nota A.T\n",
    "print('A^T = \\n',AT)"
   ]
  },
  {
   "cell_type": "markdown",
   "metadata": {},
   "source": [
    "## Samlagning og margföldun\n",
    "\n",
    "Við notum venjulega virkja, `+` og `*`"
   ]
  },
  {
   "cell_type": "code",
   "execution_count": 13,
   "metadata": {},
   "outputs": [
    {
     "name": "stdout",
     "output_type": "stream",
     "text": [
      "A+B =  [[  0.    3.   -1.    5.2]\n",
      " [  2.4   0.   -5.   12. ]\n",
      " [  4.1   4.    6.    5. ]]\n",
      "3*A =  [[  0.    3.   -6.    0.6]\n",
      " [  4.2   0.   -3.   30. ]\n",
      " [  9.3  -3.   12.   15. ]]\n"
     ]
    }
   ],
   "source": [
    "B = np.array([[0,2,1,5],[1,0,-4,2],[1,5,2,0.0]])\n",
    "print('A+B = ',A+B)\n",
    "print('3*A = ',3*A)\n",
    "#A + np.transpose(B) ## skilar villu, stærðirnar passa ekki"
   ]
  },
  {
   "cell_type": "code",
   "execution_count": null,
   "metadata": {
    "collapsed": true
   },
   "outputs": [],
   "source": []
  }
 ],
 "metadata": {
  "kernelspec": {
   "display_name": "Python 3",
   "language": "python",
   "name": "python3"
  },
  "language_info": {
   "codemirror_mode": {
    "name": "ipython",
    "version": 3
   },
   "file_extension": ".py",
   "mimetype": "text/x-python",
   "name": "python",
   "nbconvert_exporter": "python",
   "pygments_lexer": "ipython3",
   "version": "3.5.2"
  }
 },
 "nbformat": 4,
 "nbformat_minor": 1
}
